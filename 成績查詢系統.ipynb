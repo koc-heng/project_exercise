{
 "cells": [
  {
   "cell_type": "code",
   "execution_count": null,
   "id": "undefined-taylor",
   "metadata": {},
   "outputs": [],
   "source": [
    "!pip install mysqlclient"
   ]
  },
  {
   "cell_type": "markdown",
   "id": "medical-server",
   "metadata": {},
   "source": [
    "# 創建資料表"
   ]
  },
  {
   "cell_type": "code",
   "execution_count": 1,
   "id": "african-desert",
   "metadata": {},
   "outputs": [],
   "source": [
    "import MySQLdb\n",
    "\n",
    "db = MySQLdb.connect(\"127.0.0.1\",\"class\",\"74107410\",\"db\")\n",
    "\n",
    "cursor = db.cursor()\n",
    "\n",
    "## 1.將如果STUDENTS資料表存在，將STUDENTS資料表丟棄\n",
    "\n",
    "cursor.execute(\"DROP TABLE IF EXISTS STUDENTS\")\n",
    "\n",
    "## 2.創建STUDENTS資料表，資料表欄位如下\n",
    "'''\n",
    "| ID INT(11) | NAME CHAR(20) | GENDER CHAR(20) | CHINESE CHAR(20) | ENGLISH CHAR(20) | MATH CHAR(20) | SOCIAL_SCIENCE CHAR(20) | SCIENCE  CHAR(20) |\n",
    "\n",
    "PRIMARY KEY = ID\n",
    "CHARSET = utf8\n",
    "\n",
    "'''\n",
    "sql = \"\"\"CREATE TABLE STUDENTS (ID INT(11) NOT NULL AUTO_INCREMENT,\n",
    "          NAME  CHAR(20) NOT NULL,\n",
    "          GENDER  CHAR(20) NOT NULL,\n",
    "          CHINESE  CHAR(20) NOT NULL,\n",
    "          ENGLISH  CHAR(20) NOT NULL,\n",
    "          MATH  CHAR(20) NOT NULL,\n",
    "          SOCIAL_SCIENCE  CHAR(20) NOT NULL,\n",
    "          SCIENCE  CHAR(20) NOT NULL,\n",
    "          PRIMARY KEY  (ID)\n",
    "          )DEFAULT CHARSET=utf8\"\"\"\n",
    "\n",
    "cursor.execute(sql)\n",
    "\n",
    "db.close()"
   ]
  },
  {
   "cell_type": "markdown",
   "id": "frequent-helicopter",
   "metadata": {},
   "source": [
    "# 手key學生成績到資料庫內  \n",
    "請手動輸入以下兩位學生成績  \n",
    "name: isaac, gender: m, chinese: 60, english: 72, math: 32, social_science: 52, science: 86  \n",
    "name: amy, gender: f, chinese: 50, english: 22, math: 80, social_science: 15, science: 93"
   ]
  },
  {
   "cell_type": "code",
   "execution_count": 2,
   "id": "blank-professor",
   "metadata": {},
   "outputs": [
    {
     "name": "stdout",
     "output_type": "stream",
     "text": [
      "enter students score\n",
      "enter name: Allen\n",
      "enter gender: m\n",
      "enter chinese score: 95\n",
      "enter english score: 60\n",
      "enter math score: 80\n",
      "enter social science score: 75\n",
      "enter science score: 80\n",
      "continue(y/n)? n\n"
     ]
    }
   ],
   "source": [
    "import MySQLdb\n",
    "\n",
    "db = MySQLdb.connect(\"127.0.0.1\",\"class\",\"74107410\",\"db\")\n",
    "\n",
    "cursor = db.cursor()\n",
    "\n",
    "print(\"enter students score\")\n",
    "while True:\n",
    "\n",
    "    student_name = input(\"enter name: \")\n",
    "    student_gender = input(\"enter gender: \")\n",
    "    student_chinese = input(\"enter chinese score: \")\n",
    "    student_english = input(\"enter english score: \")\n",
    "    student_math = input(\"enter math score: \")\n",
    "    student_social_science = input(\"enter social science score: \")\n",
    "    student_science = input(\"enter science score: \")\n",
    "    \n",
    "    ## 3.將student_name, student_gender, student_chinese, ......插入到資料庫\n",
    "    x = (student_name, student_gender, student_chinese, student_english, student_math, student_social_science, student_science)\n",
    "    sql = \"\"\"INSERT INTO STUDENTS(NAME, GENDER, CHINESE, ENGLISH, MATH, SOCIAL_SCIENCE, SCIENCE VALUES (%s, %s, %s, %s, %s, %s, %s)\"\"\"\n",
    "    try:\n",
    "        cursor.execute(sql, x)\n",
    "    except:\n",
    "        db.rollback\n",
    "    \n",
    "    again = input(\"continue(y/n)? \")\n",
    "    if again[0].lower() == \"n\":\n",
    "        break\n",
    "\n",
    "db.close()"
   ]
  },
  {
   "cell_type": "markdown",
   "id": "middle-jesus",
   "metadata": {},
   "source": [
    "# 查詢目前資料庫所有內容"
   ]
  },
  {
   "cell_type": "code",
   "execution_count": 3,
   "id": "regular-preservation",
   "metadata": {},
   "outputs": [
    {
     "name": "stdout",
     "output_type": "stream",
     "text": [
      "name: isaac, gender: m, chinese: 60, english: 72, math: 32, social_science: 52, science: 86\n",
      "name: amy, gender: f, chinese: 50, english: 22, math: 80, social_science: 15, science: 93\n"
     ]
    }
   ],
   "source": [
    "import MySQLdb\n",
    "\n",
    "db = MySQLdb.connect(\"127.0.0.1\",\"class\",\"74107410\",\"db\")\n",
    "\n",
    "\n",
    "cursor = db.cursor()\n",
    "\n",
    "sql = \"SELECT * FROM STUDENTS\"\n",
    "\n",
    "## 4.查詢目前資料庫所有內容\n",
    "try:\n",
    "    cursor.execute(sql)\n",
    "    results = cursor.fetchall()\n",
    "    \n",
    "    for row in results:\n",
    "        student_id = row[0]\n",
    "        student_name = row[1]\n",
    "        student_gender = row[2]\n",
    "        student_chinese = row[3]\n",
    "        student_english = row[4]\n",
    "        student_math = row[5]\n",
    "        student_social_science = row[6]\n",
    "        student_science = row[7]\n",
    "        \n",
    "        print(\"name: {}, gender: {}, chinese: {}, english: {}, math: {}, social_science: {}, science: {}\".format(student_name, student_gender, student_chinese, student_english, student_math, student_social_science, student_science))\n",
    "        \n",
    "except:\n",
    "    print(\"Error: unable to fetch data\") \n",
    "  \n",
    " db.close()"
   ]
  },
  {
   "cell_type": "markdown",
   "id": "governmental-specific",
   "metadata": {},
   "source": [
    "# 使用csv檔案，大量匯入全班成績"
   ]
  },
  {
   "cell_type": "code",
   "execution_count": 3,
   "id": "bound-battlefield",
   "metadata": {},
   "outputs": [
    {
     "name": "stdout",
     "output_type": "stream",
     "text": [
      "insert loe data......\n",
      "insert judy data......\n",
      "insert lily data......\n",
      "insert evan data......\n",
      "insert joyce data......\n",
      "insert yoshi data......\n",
      "insert amber data......\n",
      "insert alex data......\n",
      "insert sophia data......\n"
     ]
    }
   ],
   "source": [
    "import MySQLdb\n",
    "\n",
    "db = MySQLdb.connect(\"127.0.0.1\",\"class\",\"74107410\",\"db\")\n",
    "\n",
    "\n",
    "cursor = db.cursor()\n",
    "\n",
    "## 5.將exam_score.csv所有學生成績插入資料庫\n",
    "\n",
    "with open(\"exam_score.csv\") as f:\n",
    "    for index, i in enumerate(f.readlines()):\n",
    "        if index == 0:\n",
    "            continue\n",
    "        x = tuple(i.strip().split(','))\n",
    "        print(\"insert {} data......\".format(x[0]))\n",
    "        \n",
    "        sql = \"\"\"INSERT INTO STUDENTS (NAME, GENDER, CHINESE, ENGLISH, MATH, SOCIAL_SCIENCE, SCIENCE) VALUES (%s, %s, %s, %s, %s, %s, %s)\"\"\"\n",
    "        \n",
    "        try:\n",
    "            cursor.execute(sql,x)\n",
    "            db.commit()\n",
    "        except:\n",
    "            db.rollback()\n",
    "\n",
    "db.close()"
   ]
  },
  {
   "cell_type": "markdown",
   "id": "cooperative-rental",
   "metadata": {},
   "source": [
    "# 將sophia英文成績改成99"
   ]
  },
  {
   "cell_type": "code",
   "execution_count": 9,
   "id": "starting-nowhere",
   "metadata": {},
   "outputs": [],
   "source": [
    "import MySQLdb\n",
    "\n",
    "db = MySQLdb.connect(\"127.0.0.1\",\"class\",\"74107410\",\"db\")\n",
    "\n",
    "cursor = db.cursor()\n",
    "\n",
    "## 6.將sophia英文成績改成99\n",
    "sql = \"UPDATE STUDENTS SET ENGLISH = 99 WHERE NAME = 'sophia'\"\n",
    "\n",
    "try:\n",
    "    cursor.execute(sql)\n",
    "    db.commit()\n",
    "except:\n",
    "    db.commit()\n",
    "\n",
    "db.close()"
   ]
  },
  {
   "cell_type": "markdown",
   "id": "planned-player",
   "metadata": {},
   "source": [
    "# 計算各科平均"
   ]
  },
  {
   "cell_type": "code",
   "execution_count": 1,
   "id": "occasional-perception",
   "metadata": {},
   "outputs": [
    {
     "name": "stdout",
     "output_type": "stream",
     "text": [
      "name: loe, gender: m, chinese: 70, english: 48, math: 69, social_science: 50, science: 66\n",
      "name: judy, gender: f, chinese: 89, english: 90, math: 59, social_science: 28, science: 39\n",
      "name: lily, gender: f, chinese: 37, english: 43, math: 67, social_science: 34, science: 43\n",
      "name: evan, gender: m, chinese: 12, english: 57, math: 97, social_science: 100, science: 100\n",
      "name: joyce, gender: f, chinese: 58, english: 48, math: 47, social_science: 98, science: 37\n",
      "name: yoshi, gender: m, chinese: 58, english: 49, math: 79, social_science: 38, science: 20\n",
      "name: amber, gender: f, chinese: 57, english: 23, math: 6, social_science: 28, science: 69\n",
      "name: alex, gender: m, chinese: 59, english: 69, math: 20, social_science: 60, science: 79\n",
      "name: sophia, gender: f, chinese: 79, english: 99, math: 70, social_science: 49, science: 70\n",
      "chinese_avg: 57.666666666666664\n",
      "english_avg: 58.44444444444444\n",
      "math_avg: 57.111111111111114\n",
      "social_science_avg: 53.888888888888886\n",
      "science_avg: 58.111111111111114\n"
     ]
    }
   ],
   "source": [
    "import MySQLdb\n",
    "\n",
    "db = MySQLdb.connect(\"127.0.0.1\",\"class\",\"74107410\",\"db\")\n",
    "\n",
    "cursor = db.cursor()\n",
    "\n",
    "\n",
    "sql = \"SELECT * FROM STUDENTS\"\n",
    "chinese_avg = 0\n",
    "english_avg = 0\n",
    "math_avg = 0\n",
    "social_science_avg = 0\n",
    "science_avg = 0\n",
    "\n",
    "try:\n",
    "    \n",
    "    cursor.execute(sql)\n",
    "\n",
    "    results = cursor.fetchall()\n",
    "    num_students = len(results)\n",
    "    ## 7.計算各個科目平均成績\n",
    "    for i in results:\n",
    "        student_id = i[0]\n",
    "        student_name = i[1]\n",
    "        student_gender = i[2]\n",
    "        \n",
    "        student_chinese = i[3]\n",
    "        chinese_avg = chinese_avg + float(i[3])\n",
    "        \n",
    "        student_english = i[4]\n",
    "        english_avg = english_avg + float(i[4])\n",
    "        \n",
    "        student_math = i[5]\n",
    "        math_avg = math_avg + float(i[5])\n",
    "        \n",
    "        student_social_science = i[6]\n",
    "        social_science_avg = social_science_avg + float(i[6])\n",
    "        \n",
    "        student_science = i[7]\n",
    "        science_avg = science_avg + float(i[7])\n",
    "        \n",
    "        print(\"name: {}, gender: {}, chinese: {}, english: {}, math: {}, social_science: {}, science: {}\" \n",
    "               .format(student_name, student_gender, student_chinese, student_english, student_math, student_social_science, student_science))\n",
    "        \n",
    "\n",
    "except:\n",
    "    print(\"Error: unable to fecth data\")\n",
    "\n",
    "print('chinese_avg: {}'.format(chinese_avg/num_students))\n",
    "print('english_avg: {}'.format(english_avg/num_students))\n",
    "print('math_avg: {}'.format(math_avg/num_students))\n",
    "print('social_science_avg: {}'.format(social_science_avg/num_students))\n",
    "print('science_avg: {}'.format(science_avg/num_students))\n",
    "\n",
    "db.close()"
   ]
  },
  {
   "cell_type": "code",
   "execution_count": null,
   "id": "individual-flood",
   "metadata": {},
   "outputs": [],
   "source": []
  }
 ],
 "metadata": {
  "kernelspec": {
   "display_name": "Python 3 (ipykernel)",
   "language": "python",
   "name": "python3"
  },
  "language_info": {
   "codemirror_mode": {
    "name": "ipython",
    "version": 3
   },
   "file_extension": ".py",
   "mimetype": "text/x-python",
   "name": "python",
   "nbconvert_exporter": "python",
   "pygments_lexer": "ipython3",
   "version": "3.9.7"
  }
 },
 "nbformat": 4,
 "nbformat_minor": 5
}
